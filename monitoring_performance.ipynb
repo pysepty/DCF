{
  "nbformat": 4,
  "nbformat_minor": 0,
  "metadata": {
    "colab": {
      "name": "monitoring performance.ipynb",
      "provenance": [],
      "collapsed_sections": [],
      "mount_file_id": "1a2kBXSwBN33-1rKt8V2nO80edrDeBZL5",
      "authorship_tag": "ABX9TyPcPYA+W2cj1sUEbvzCMtU0",
      "include_colab_link": true
    },
    "kernelspec": {
      "display_name": "Python 3",
      "name": "python3"
    },
    "language_info": {
      "name": "python"
    },
    "widgets": {
      "application/vnd.jupyter.widget-state+json": {
        "e8bde657ab3c43349ebf60ca59f25d8d": {
          "model_module": "@jupyter-widgets/controls",
          "model_name": "DropdownModel",
          "model_module_version": "1.5.0",
          "state": {
            "_options_labels": [
              "ALL",
              "Symbol",
              "name",
              "sector",
              "industry",
              "market cap"
            ],
            "_view_name": "DropdownView",
            "style": "IPY_MODEL_f53b125eee1e4322a35c1292b0a071fa",
            "_dom_classes": [],
            "description": "",
            "_model_name": "DropdownModel",
            "index": 0,
            "_view_module": "@jupyter-widgets/controls",
            "_model_module_version": "1.5.0",
            "_view_count": null,
            "disabled": false,
            "_view_module_version": "1.5.0",
            "description_tooltip": null,
            "_model_module": "@jupyter-widgets/controls",
            "layout": "IPY_MODEL_97d006af85b140afb2b1992e5487089b"
          }
        },
        "f53b125eee1e4322a35c1292b0a071fa": {
          "model_module": "@jupyter-widgets/controls",
          "model_name": "DescriptionStyleModel",
          "model_module_version": "1.5.0",
          "state": {
            "_view_name": "StyleView",
            "_model_name": "DescriptionStyleModel",
            "description_width": "",
            "_view_module": "@jupyter-widgets/base",
            "_model_module_version": "1.5.0",
            "_view_count": null,
            "_view_module_version": "1.2.0",
            "_model_module": "@jupyter-widgets/controls"
          }
        },
        "97d006af85b140afb2b1992e5487089b": {
          "model_module": "@jupyter-widgets/base",
          "model_name": "LayoutModel",
          "model_module_version": "1.2.0",
          "state": {
            "_view_name": "LayoutView",
            "grid_template_rows": null,
            "right": null,
            "justify_content": null,
            "_view_module": "@jupyter-widgets/base",
            "overflow": null,
            "_model_module_version": "1.2.0",
            "_view_count": null,
            "flex_flow": null,
            "width": null,
            "min_width": null,
            "border": null,
            "align_items": null,
            "bottom": null,
            "_model_module": "@jupyter-widgets/base",
            "top": null,
            "grid_column": null,
            "overflow_y": null,
            "overflow_x": null,
            "grid_auto_flow": null,
            "grid_area": null,
            "grid_template_columns": null,
            "flex": null,
            "_model_name": "LayoutModel",
            "justify_items": null,
            "grid_row": null,
            "max_height": null,
            "align_content": null,
            "visibility": null,
            "align_self": null,
            "height": null,
            "min_height": null,
            "padding": null,
            "grid_auto_rows": null,
            "grid_gap": null,
            "max_width": null,
            "order": null,
            "_view_module_version": "1.2.0",
            "grid_template_areas": null,
            "object_position": null,
            "object_fit": null,
            "grid_auto_columns": null,
            "margin": null,
            "display": null,
            "left": null
          }
        },
        "972939a6b5de47508aa8f1e7cb5049d6": {
          "model_module": "@jupyter-widgets/output",
          "model_name": "OutputModel",
          "model_module_version": "1.0.0",
          "state": {
            "_view_name": "OutputView",
            "msg_id": "",
            "_dom_classes": [],
            "_model_name": "OutputModel",
            "outputs": [],
            "_view_module": "@jupyter-widgets/output",
            "_model_module_version": "1.0.0",
            "_view_count": null,
            "_view_module_version": "1.0.0",
            "layout": "IPY_MODEL_146f5421ef48405589c58f17005474a0",
            "_model_module": "@jupyter-widgets/output"
          }
        },
        "146f5421ef48405589c58f17005474a0": {
          "model_module": "@jupyter-widgets/base",
          "model_name": "LayoutModel",
          "model_module_version": "1.2.0",
          "state": {
            "_view_name": "LayoutView",
            "grid_template_rows": null,
            "right": null,
            "justify_content": null,
            "_view_module": "@jupyter-widgets/base",
            "overflow": null,
            "_model_module_version": "1.2.0",
            "_view_count": null,
            "flex_flow": null,
            "width": null,
            "min_width": null,
            "border": null,
            "align_items": null,
            "bottom": null,
            "_model_module": "@jupyter-widgets/base",
            "top": null,
            "grid_column": null,
            "overflow_y": null,
            "overflow_x": null,
            "grid_auto_flow": null,
            "grid_area": null,
            "grid_template_columns": null,
            "flex": null,
            "_model_name": "LayoutModel",
            "justify_items": null,
            "grid_row": null,
            "max_height": null,
            "align_content": null,
            "visibility": null,
            "align_self": null,
            "height": null,
            "min_height": null,
            "padding": null,
            "grid_auto_rows": null,
            "grid_gap": null,
            "max_width": null,
            "order": null,
            "_view_module_version": "1.2.0",
            "grid_template_areas": null,
            "object_position": null,
            "object_fit": null,
            "grid_auto_columns": null,
            "margin": null,
            "display": null,
            "left": null
          }
        },
        "e6fd8366b3224cdf9375e26659f384c8": {
          "model_module": "@jupyter-widgets/controls",
          "model_name": "DropdownModel",
          "model_module_version": "1.5.0",
          "state": {
            "_options_labels": [
              "ALL",
              "Industrials",
              "Consumer Cyclical",
              "Technology",
              "Healthcare",
              "Communication Services",
              "Consumer Defensive",
              "Real Estate",
              "Basic Materials",
              "Financial",
              "Energy"
            ],
            "_view_name": "DropdownView",
            "style": "IPY_MODEL_1e745987dc2547e8bdc15c48b91ea6c4",
            "_dom_classes": [],
            "description": "",
            "_model_name": "DropdownModel",
            "index": 6,
            "_view_module": "@jupyter-widgets/controls",
            "_model_module_version": "1.5.0",
            "_view_count": null,
            "disabled": false,
            "_view_module_version": "1.5.0",
            "description_tooltip": null,
            "_model_module": "@jupyter-widgets/controls",
            "layout": "IPY_MODEL_91b2cec7743e4dc2a512bef1a95a7e4d"
          }
        },
        "1e745987dc2547e8bdc15c48b91ea6c4": {
          "model_module": "@jupyter-widgets/controls",
          "model_name": "DescriptionStyleModel",
          "model_module_version": "1.5.0",
          "state": {
            "_view_name": "StyleView",
            "_model_name": "DescriptionStyleModel",
            "description_width": "",
            "_view_module": "@jupyter-widgets/base",
            "_model_module_version": "1.5.0",
            "_view_count": null,
            "_view_module_version": "1.2.0",
            "_model_module": "@jupyter-widgets/controls"
          }
        },
        "91b2cec7743e4dc2a512bef1a95a7e4d": {
          "model_module": "@jupyter-widgets/base",
          "model_name": "LayoutModel",
          "model_module_version": "1.2.0",
          "state": {
            "_view_name": "LayoutView",
            "grid_template_rows": null,
            "right": null,
            "justify_content": null,
            "_view_module": "@jupyter-widgets/base",
            "overflow": null,
            "_model_module_version": "1.2.0",
            "_view_count": null,
            "flex_flow": null,
            "width": null,
            "min_width": null,
            "border": null,
            "align_items": null,
            "bottom": null,
            "_model_module": "@jupyter-widgets/base",
            "top": null,
            "grid_column": null,
            "overflow_y": null,
            "overflow_x": null,
            "grid_auto_flow": null,
            "grid_area": null,
            "grid_template_columns": null,
            "flex": null,
            "_model_name": "LayoutModel",
            "justify_items": null,
            "grid_row": null,
            "max_height": null,
            "align_content": null,
            "visibility": null,
            "align_self": null,
            "height": null,
            "min_height": null,
            "padding": null,
            "grid_auto_rows": null,
            "grid_gap": null,
            "max_width": null,
            "order": null,
            "_view_module_version": "1.2.0",
            "grid_template_areas": null,
            "object_position": null,
            "object_fit": null,
            "grid_auto_columns": null,
            "margin": null,
            "display": null,
            "left": null
          }
        },
        "ca58974cefca48fb942022fb2f3e0e71": {
          "model_module": "@jupyter-widgets/controls",
          "model_name": "DropdownModel",
          "model_module_version": "1.5.0",
          "state": {
            "_options_labels": [
              "Symbol",
              "name",
              "sector",
              "industry",
              "market cap",
              "7D performance %",
              "15D performance %",
              "30D performance %",
              "3MO performance %",
              "6MO performance %",
              "7D SR",
              "15D SR",
              "30D SR",
              "3MO SR",
              "6MO SR",
              "Volatility W %",
              "Insider Own %",
              "gross",
              "ROE %",
              "PEG",
              "Latest Price $",
              "WST latest target $",
              "Buffer %",
              "Fair $",
              "Margin of Safety %"
            ],
            "_view_name": "DropdownView",
            "style": "IPY_MODEL_bdfea3052de346e192c8b50961207c3b",
            "_dom_classes": [],
            "description": "",
            "_model_name": "DropdownModel",
            "index": 22,
            "_view_module": "@jupyter-widgets/controls",
            "_model_module_version": "1.5.0",
            "_view_count": null,
            "disabled": false,
            "_view_module_version": "1.5.0",
            "description_tooltip": null,
            "_model_module": "@jupyter-widgets/controls",
            "layout": "IPY_MODEL_f4908c9d192f4c9d8183b937f59a78bc"
          }
        },
        "bdfea3052de346e192c8b50961207c3b": {
          "model_module": "@jupyter-widgets/controls",
          "model_name": "DescriptionStyleModel",
          "model_module_version": "1.5.0",
          "state": {
            "_view_name": "StyleView",
            "_model_name": "DescriptionStyleModel",
            "description_width": "",
            "_view_module": "@jupyter-widgets/base",
            "_model_module_version": "1.5.0",
            "_view_count": null,
            "_view_module_version": "1.2.0",
            "_model_module": "@jupyter-widgets/controls"
          }
        },
        "f4908c9d192f4c9d8183b937f59a78bc": {
          "model_module": "@jupyter-widgets/base",
          "model_name": "LayoutModel",
          "model_module_version": "1.2.0",
          "state": {
            "_view_name": "LayoutView",
            "grid_template_rows": null,
            "right": null,
            "justify_content": null,
            "_view_module": "@jupyter-widgets/base",
            "overflow": null,
            "_model_module_version": "1.2.0",
            "_view_count": null,
            "flex_flow": null,
            "width": null,
            "min_width": null,
            "border": null,
            "align_items": null,
            "bottom": null,
            "_model_module": "@jupyter-widgets/base",
            "top": null,
            "grid_column": null,
            "overflow_y": null,
            "overflow_x": null,
            "grid_auto_flow": null,
            "grid_area": null,
            "grid_template_columns": null,
            "flex": null,
            "_model_name": "LayoutModel",
            "justify_items": null,
            "grid_row": null,
            "max_height": null,
            "align_content": null,
            "visibility": null,
            "align_self": null,
            "height": null,
            "min_height": null,
            "padding": null,
            "grid_auto_rows": null,
            "grid_gap": null,
            "max_width": null,
            "order": null,
            "_view_module_version": "1.2.0",
            "grid_template_areas": null,
            "object_position": null,
            "object_fit": null,
            "grid_auto_columns": null,
            "margin": null,
            "display": null,
            "left": null
          }
        },
        "e395c91c37d240768edc9cb8dfec1c0e": {
          "model_module": "@jupyter-widgets/controls",
          "model_name": "DropdownModel",
          "model_module_version": "1.5.0",
          "state": {
            "_options_labels": [
              "descending",
              "ascending"
            ],
            "_view_name": "DropdownView",
            "style": "IPY_MODEL_d75009bb23354393a2de4882a9f02f45",
            "_dom_classes": [],
            "description": "",
            "_model_name": "DropdownModel",
            "index": 0,
            "_view_module": "@jupyter-widgets/controls",
            "_model_module_version": "1.5.0",
            "_view_count": null,
            "disabled": false,
            "_view_module_version": "1.5.0",
            "description_tooltip": null,
            "_model_module": "@jupyter-widgets/controls",
            "layout": "IPY_MODEL_ebe4ae2ff00a445aab709954f08edc93"
          }
        },
        "d75009bb23354393a2de4882a9f02f45": {
          "model_module": "@jupyter-widgets/controls",
          "model_name": "DescriptionStyleModel",
          "model_module_version": "1.5.0",
          "state": {
            "_view_name": "StyleView",
            "_model_name": "DescriptionStyleModel",
            "description_width": "",
            "_view_module": "@jupyter-widgets/base",
            "_model_module_version": "1.5.0",
            "_view_count": null,
            "_view_module_version": "1.2.0",
            "_model_module": "@jupyter-widgets/controls"
          }
        },
        "ebe4ae2ff00a445aab709954f08edc93": {
          "model_module": "@jupyter-widgets/base",
          "model_name": "LayoutModel",
          "model_module_version": "1.2.0",
          "state": {
            "_view_name": "LayoutView",
            "grid_template_rows": null,
            "right": null,
            "justify_content": null,
            "_view_module": "@jupyter-widgets/base",
            "overflow": null,
            "_model_module_version": "1.2.0",
            "_view_count": null,
            "flex_flow": null,
            "width": null,
            "min_width": null,
            "border": null,
            "align_items": null,
            "bottom": null,
            "_model_module": "@jupyter-widgets/base",
            "top": null,
            "grid_column": null,
            "overflow_y": null,
            "overflow_x": null,
            "grid_auto_flow": null,
            "grid_area": null,
            "grid_template_columns": null,
            "flex": null,
            "_model_name": "LayoutModel",
            "justify_items": null,
            "grid_row": null,
            "max_height": null,
            "align_content": null,
            "visibility": null,
            "align_self": null,
            "height": null,
            "min_height": null,
            "padding": null,
            "grid_auto_rows": null,
            "grid_gap": null,
            "max_width": null,
            "order": null,
            "_view_module_version": "1.2.0",
            "grid_template_areas": null,
            "object_position": null,
            "object_fit": null,
            "grid_auto_columns": null,
            "margin": null,
            "display": null,
            "left": null
          }
        },
        "2ad7ee295f454aeebcb7eec1bddacb55": {
          "model_module": "@jupyter-widgets/output",
          "model_name": "OutputModel",
          "model_module_version": "1.0.0",
          "state": {
            "_view_name": "OutputView",
            "msg_id": "",
            "_dom_classes": [],
            "_model_name": "OutputModel",
            "outputs": [
              {
                "output_type": "display_data",
                "data": {
                  "text/html": "<style  type=\"text/css\" >\n#T_90e3199e_5144_11ec_97c8_0242ac1c0002row0_col4,#T_90e3199e_5144_11ec_97c8_0242ac1c0002row0_col5,#T_90e3199e_5144_11ec_97c8_0242ac1c0002row0_col6,#T_90e3199e_5144_11ec_97c8_0242ac1c0002row0_col7,#T_90e3199e_5144_11ec_97c8_0242ac1c0002row0_col8,#T_90e3199e_5144_11ec_97c8_0242ac1c0002row0_col9,#T_90e3199e_5144_11ec_97c8_0242ac1c0002row0_col10,#T_90e3199e_5144_11ec_97c8_0242ac1c0002row0_col11,#T_90e3199e_5144_11ec_97c8_0242ac1c0002row0_col12,#T_90e3199e_5144_11ec_97c8_0242ac1c0002row0_col13,#T_90e3199e_5144_11ec_97c8_0242ac1c0002row0_col14,#T_90e3199e_5144_11ec_97c8_0242ac1c0002row0_col17,#T_90e3199e_5144_11ec_97c8_0242ac1c0002row1_col4,#T_90e3199e_5144_11ec_97c8_0242ac1c0002row1_col5,#T_90e3199e_5144_11ec_97c8_0242ac1c0002row1_col6,#T_90e3199e_5144_11ec_97c8_0242ac1c0002row1_col9,#T_90e3199e_5144_11ec_97c8_0242ac1c0002row1_col10,#T_90e3199e_5144_11ec_97c8_0242ac1c0002row1_col11,#T_90e3199e_5144_11ec_97c8_0242ac1c0002row1_col13,#T_90e3199e_5144_11ec_97c8_0242ac1c0002row2_col4,#T_90e3199e_5144_11ec_97c8_0242ac1c0002row2_col5,#T_90e3199e_5144_11ec_97c8_0242ac1c0002row2_col6,#T_90e3199e_5144_11ec_97c8_0242ac1c0002row2_col7,#T_90e3199e_5144_11ec_97c8_0242ac1c0002row2_col8,#T_90e3199e_5144_11ec_97c8_0242ac1c0002row2_col9,#T_90e3199e_5144_11ec_97c8_0242ac1c0002row2_col10,#T_90e3199e_5144_11ec_97c8_0242ac1c0002row2_col11,#T_90e3199e_5144_11ec_97c8_0242ac1c0002row2_col12,#T_90e3199e_5144_11ec_97c8_0242ac1c0002row2_col13,#T_90e3199e_5144_11ec_97c8_0242ac1c0002row2_col23,#T_90e3199e_5144_11ec_97c8_0242ac1c0002row3_col21,#T_90e3199e_5144_11ec_97c8_0242ac1c0002row3_col23{\n            background-color:  tomato;\n        }#T_90e3199e_5144_11ec_97c8_0242ac1c0002row0_col21,#T_90e3199e_5144_11ec_97c8_0242ac1c0002row1_col12,#T_90e3199e_5144_11ec_97c8_0242ac1c0002row2_col14,#T_90e3199e_5144_11ec_97c8_0242ac1c0002row2_col17,#T_90e3199e_5144_11ec_97c8_0242ac1c0002row3_col9,#T_90e3199e_5144_11ec_97c8_0242ac1c0002row3_col10,#T_90e3199e_5144_11ec_97c8_0242ac1c0002row3_col14,#T_90e3199e_5144_11ec_97c8_0242ac1c0002row3_col17{\n            background-color:  palegreen;\n        }#T_90e3199e_5144_11ec_97c8_0242ac1c0002row1_col7,#T_90e3199e_5144_11ec_97c8_0242ac1c0002row1_col8{\n            background-color:  palegreen;\n            font-weight:  bold;\n        }#T_90e3199e_5144_11ec_97c8_0242ac1c0002row3_col4,#T_90e3199e_5144_11ec_97c8_0242ac1c0002row3_col5,#T_90e3199e_5144_11ec_97c8_0242ac1c0002row3_col6{\n            font-weight:  bold;\n        }</style><table id=\"T_90e3199e_5144_11ec_97c8_0242ac1c0002\" class=\"dataframe\"><thead>    <tr>        <th class=\"blank level0\" ></th>        <th class=\"col_heading level0 col0\" >name</th>        <th class=\"col_heading level0 col1\" >sector</th>        <th class=\"col_heading level0 col2\" >industry</th>        <th class=\"col_heading level0 col3\" >market cap</th>        <th class=\"col_heading level0 col4\" >7D performance %</th>        <th class=\"col_heading level0 col5\" >15D performance %</th>        <th class=\"col_heading level0 col6\" >30D performance %</th>        <th class=\"col_heading level0 col7\" >3MO performance %</th>        <th class=\"col_heading level0 col8\" >6MO performance %</th>        <th class=\"col_heading level0 col9\" >7D SR</th>        <th class=\"col_heading level0 col10\" >15D SR</th>        <th class=\"col_heading level0 col11\" >30D SR</th>        <th class=\"col_heading level0 col12\" >3MO SR</th>        <th class=\"col_heading level0 col13\" >6MO SR</th>        <th class=\"col_heading level0 col14\" >Volatility W %</th>        <th class=\"col_heading level0 col15\" >Insider Own %</th>        <th class=\"col_heading level0 col16\" >gross</th>        <th class=\"col_heading level0 col17\" >ROE %</th>        <th class=\"col_heading level0 col18\" >PEG</th>        <th class=\"col_heading level0 col19\" >Latest Price $</th>        <th class=\"col_heading level0 col20\" >WST latest target $</th>        <th class=\"col_heading level0 col21\" >Buffer %</th>        <th class=\"col_heading level0 col22\" >Fair $</th>        <th class=\"col_heading level0 col23\" >Margin of Safety %</th>    </tr>    <tr>        <th class=\"index_name level0\" >Symbol</th>        <th class=\"blank\" ></th>        <th class=\"blank\" ></th>        <th class=\"blank\" ></th>        <th class=\"blank\" ></th>        <th class=\"blank\" ></th>        <th class=\"blank\" ></th>        <th class=\"blank\" ></th>        <th class=\"blank\" ></th>        <th class=\"blank\" ></th>        <th class=\"blank\" ></th>        <th class=\"blank\" ></th>        <th class=\"blank\" ></th>        <th class=\"blank\" ></th>        <th class=\"blank\" ></th>        <th class=\"blank\" ></th>        <th class=\"blank\" ></th>        <th class=\"blank\" ></th>        <th class=\"blank\" ></th>        <th class=\"blank\" ></th>        <th class=\"blank\" ></th>        <th class=\"blank\" ></th>        <th class=\"blank\" ></th>        <th class=\"blank\" ></th>        <th class=\"blank\" ></th>    </tr></thead><tbody>\n                <tr>\n                        <th id=\"T_90e3199e_5144_11ec_97c8_0242ac1c0002level0_row0\" class=\"row_heading level0 row0\" >VSTA</th>\n                        <td id=\"T_90e3199e_5144_11ec_97c8_0242ac1c0002row0_col0\" class=\"data row0 col0\" >Vasta Platform Limited</td>\n                        <td id=\"T_90e3199e_5144_11ec_97c8_0242ac1c0002row0_col1\" class=\"data row0 col1\" >Consumer Defensive</td>\n                        <td id=\"T_90e3199e_5144_11ec_97c8_0242ac1c0002row0_col2\" class=\"data row0 col2\" >Education & Training Services</td>\n                        <td id=\"T_90e3199e_5144_11ec_97c8_0242ac1c0002row0_col3\" class=\"data row0 col3\" >215.59M</td>\n                        <td id=\"T_90e3199e_5144_11ec_97c8_0242ac1c0002row0_col4\" class=\"data row0 col4\" >-12.6</td>\n                        <td id=\"T_90e3199e_5144_11ec_97c8_0242ac1c0002row0_col5\" class=\"data row0 col5\" >-28.3</td>\n                        <td id=\"T_90e3199e_5144_11ec_97c8_0242ac1c0002row0_col6\" class=\"data row0 col6\" >-39.1</td>\n                        <td id=\"T_90e3199e_5144_11ec_97c8_0242ac1c0002row0_col7\" class=\"data row0 col7\" >-53.5</td>\n                        <td id=\"T_90e3199e_5144_11ec_97c8_0242ac1c0002row0_col8\" class=\"data row0 col8\" >-71.2</td>\n                        <td id=\"T_90e3199e_5144_11ec_97c8_0242ac1c0002row0_col9\" class=\"data row0 col9\" >-12.3</td>\n                        <td id=\"T_90e3199e_5144_11ec_97c8_0242ac1c0002row0_col10\" class=\"data row0 col10\" >-13.1</td>\n                        <td id=\"T_90e3199e_5144_11ec_97c8_0242ac1c0002row0_col11\" class=\"data row0 col11\" >-11.1</td>\n                        <td id=\"T_90e3199e_5144_11ec_97c8_0242ac1c0002row0_col12\" class=\"data row0 col12\" >-9.1</td>\n                        <td id=\"T_90e3199e_5144_11ec_97c8_0242ac1c0002row0_col13\" class=\"data row0 col13\" >-8.4</td>\n                        <td id=\"T_90e3199e_5144_11ec_97c8_0242ac1c0002row0_col14\" class=\"data row0 col14\" >4.2</td>\n                        <td id=\"T_90e3199e_5144_11ec_97c8_0242ac1c0002row0_col15\" class=\"data row0 col15\" >1.0</td>\n                        <td id=\"T_90e3199e_5144_11ec_97c8_0242ac1c0002row0_col16\" class=\"data row0 col16\" >59.60%</td>\n                        <td id=\"T_90e3199e_5144_11ec_97c8_0242ac1c0002row0_col17\" class=\"data row0 col17\" >-2.5</td>\n                        <td id=\"T_90e3199e_5144_11ec_97c8_0242ac1c0002row0_col18\" class=\"data row0 col18\" >nan</td>\n                        <td id=\"T_90e3199e_5144_11ec_97c8_0242ac1c0002row0_col19\" class=\"data row0 col19\" >2.6</td>\n                        <td id=\"T_90e3199e_5144_11ec_97c8_0242ac1c0002row0_col20\" class=\"data row0 col20\" >12.1</td>\n                        <td id=\"T_90e3199e_5144_11ec_97c8_0242ac1c0002row0_col21\" class=\"data row0 col21\" >369.770000</td>\n                        <td id=\"T_90e3199e_5144_11ec_97c8_0242ac1c0002row0_col22\" class=\"data row0 col22\" >nan</td>\n                        <td id=\"T_90e3199e_5144_11ec_97c8_0242ac1c0002row0_col23\" class=\"data row0 col23\" >nan</td>\n            </tr>\n            <tr>\n                        <th id=\"T_90e3199e_5144_11ec_97c8_0242ac1c0002level0_row1\" class=\"row_heading level0 row1\" >SKIL</th>\n                        <td id=\"T_90e3199e_5144_11ec_97c8_0242ac1c0002row1_col0\" class=\"data row1 col0\" >Skillsoft Corp.</td>\n                        <td id=\"T_90e3199e_5144_11ec_97c8_0242ac1c0002row1_col1\" class=\"data row1 col1\" >Consumer Defensive</td>\n                        <td id=\"T_90e3199e_5144_11ec_97c8_0242ac1c0002row1_col2\" class=\"data row1 col2\" >Education & Training Services</td>\n                        <td id=\"T_90e3199e_5144_11ec_97c8_0242ac1c0002row1_col3\" class=\"data row1 col3\" >1.57B</td>\n                        <td id=\"T_90e3199e_5144_11ec_97c8_0242ac1c0002row1_col4\" class=\"data row1 col4\" >-2.5</td>\n                        <td id=\"T_90e3199e_5144_11ec_97c8_0242ac1c0002row1_col5\" class=\"data row1 col5\" >-3.6</td>\n                        <td id=\"T_90e3199e_5144_11ec_97c8_0242ac1c0002row1_col6\" class=\"data row1 col6\" >-6.1</td>\n                        <td id=\"T_90e3199e_5144_11ec_97c8_0242ac1c0002row1_col7\" class=\"data row1 col7\" >26.0</td>\n                        <td id=\"T_90e3199e_5144_11ec_97c8_0242ac1c0002row1_col8\" class=\"data row1 col8\" >18.1</td>\n                        <td id=\"T_90e3199e_5144_11ec_97c8_0242ac1c0002row1_col9\" class=\"data row1 col9\" >-4.7</td>\n                        <td id=\"T_90e3199e_5144_11ec_97c8_0242ac1c0002row1_col10\" class=\"data row1 col10\" >-2.1</td>\n                        <td id=\"T_90e3199e_5144_11ec_97c8_0242ac1c0002row1_col11\" class=\"data row1 col11\" >-2.0</td>\n                        <td id=\"T_90e3199e_5144_11ec_97c8_0242ac1c0002row1_col12\" class=\"data row1 col12\" >3.7</td>\n                        <td id=\"T_90e3199e_5144_11ec_97c8_0242ac1c0002row1_col13\" class=\"data row1 col13\" >1.0</td>\n                        <td id=\"T_90e3199e_5144_11ec_97c8_0242ac1c0002row1_col14\" class=\"data row1 col14\" >3.4</td>\n                        <td id=\"T_90e3199e_5144_11ec_97c8_0242ac1c0002row1_col15\" class=\"data row1 col15\" >0.2</td>\n                        <td id=\"T_90e3199e_5144_11ec_97c8_0242ac1c0002row1_col16\" class=\"data row1 col16\" >-</td>\n                        <td id=\"T_90e3199e_5144_11ec_97c8_0242ac1c0002row1_col17\" class=\"data row1 col17\" >nan</td>\n                        <td id=\"T_90e3199e_5144_11ec_97c8_0242ac1c0002row1_col18\" class=\"data row1 col18\" >nan</td>\n                        <td id=\"T_90e3199e_5144_11ec_97c8_0242ac1c0002row1_col19\" class=\"data row1 col19\" >11.9</td>\n                        <td id=\"T_90e3199e_5144_11ec_97c8_0242ac1c0002row1_col20\" class=\"data row1 col20\" >14.4</td>\n                        <td id=\"T_90e3199e_5144_11ec_97c8_0242ac1c0002row1_col21\" class=\"data row1 col21\" >20.910000</td>\n                        <td id=\"T_90e3199e_5144_11ec_97c8_0242ac1c0002row1_col22\" class=\"data row1 col22\" >nan</td>\n                        <td id=\"T_90e3199e_5144_11ec_97c8_0242ac1c0002row1_col23\" class=\"data row1 col23\" >nan</td>\n            </tr>\n            <tr>\n                        <th id=\"T_90e3199e_5144_11ec_97c8_0242ac1c0002level0_row2\" class=\"row_heading level0 row2\" >KO</th>\n                        <td id=\"T_90e3199e_5144_11ec_97c8_0242ac1c0002row2_col0\" class=\"data row2 col0\" >The Coca-Cola Company</td>\n                        <td id=\"T_90e3199e_5144_11ec_97c8_0242ac1c0002row2_col1\" class=\"data row2 col1\" >Consumer Defensive</td>\n                        <td id=\"T_90e3199e_5144_11ec_97c8_0242ac1c0002row2_col2\" class=\"data row2 col2\" >Beverages - Non-Alcoholic</td>\n                        <td id=\"T_90e3199e_5144_11ec_97c8_0242ac1c0002row2_col3\" class=\"data row2 col3\" >233.26B</td>\n                        <td id=\"T_90e3199e_5144_11ec_97c8_0242ac1c0002row2_col4\" class=\"data row2 col4\" >-1.7</td>\n                        <td id=\"T_90e3199e_5144_11ec_97c8_0242ac1c0002row2_col5\" class=\"data row2 col5\" >-3.3</td>\n                        <td id=\"T_90e3199e_5144_11ec_97c8_0242ac1c0002row2_col6\" class=\"data row2 col6\" >1.0</td>\n                        <td id=\"T_90e3199e_5144_11ec_97c8_0242ac1c0002row2_col7\" class=\"data row2 col7\" >-2.3</td>\n                        <td id=\"T_90e3199e_5144_11ec_97c8_0242ac1c0002row2_col8\" class=\"data row2 col8\" >-0.3</td>\n                        <td id=\"T_90e3199e_5144_11ec_97c8_0242ac1c0002row2_col9\" class=\"data row2 col9\" >-2.7</td>\n                        <td id=\"T_90e3199e_5144_11ec_97c8_0242ac1c0002row2_col10\" class=\"data row2 col10\" >-3.5</td>\n                        <td id=\"T_90e3199e_5144_11ec_97c8_0242ac1c0002row2_col11\" class=\"data row2 col11\" >0.7</td>\n                        <td id=\"T_90e3199e_5144_11ec_97c8_0242ac1c0002row2_col12\" class=\"data row2 col12\" >-0.6</td>\n                        <td id=\"T_90e3199e_5144_11ec_97c8_0242ac1c0002row2_col13\" class=\"data row2 col13\" >0.0</td>\n                        <td id=\"T_90e3199e_5144_11ec_97c8_0242ac1c0002row2_col14\" class=\"data row2 col14\" >1.5</td>\n                        <td id=\"T_90e3199e_5144_11ec_97c8_0242ac1c0002row2_col15\" class=\"data row2 col15\" >0.6</td>\n                        <td id=\"T_90e3199e_5144_11ec_97c8_0242ac1c0002row2_col16\" class=\"data row2 col16\" >60.70%</td>\n                        <td id=\"T_90e3199e_5144_11ec_97c8_0242ac1c0002row2_col17\" class=\"data row2 col17\" >41.9</td>\n                        <td id=\"T_90e3199e_5144_11ec_97c8_0242ac1c0002row2_col18\" class=\"data row2 col18\" >2.7</td>\n                        <td id=\"T_90e3199e_5144_11ec_97c8_0242ac1c0002row2_col19\" class=\"data row2 col19\" >54.6</td>\n                        <td id=\"T_90e3199e_5144_11ec_97c8_0242ac1c0002row2_col20\" class=\"data row2 col20\" >62.1</td>\n                        <td id=\"T_90e3199e_5144_11ec_97c8_0242ac1c0002row2_col21\" class=\"data row2 col21\" >13.780000</td>\n                        <td id=\"T_90e3199e_5144_11ec_97c8_0242ac1c0002row2_col22\" class=\"data row2 col22\" >30.1</td>\n                        <td id=\"T_90e3199e_5144_11ec_97c8_0242ac1c0002row2_col23\" class=\"data row2 col23\" >-44.9</td>\n            </tr>\n            <tr>\n                        <th id=\"T_90e3199e_5144_11ec_97c8_0242ac1c0002level0_row3\" class=\"row_heading level0 row3\" >PG</th>\n                        <td id=\"T_90e3199e_5144_11ec_97c8_0242ac1c0002row3_col0\" class=\"data row3 col0\" >The Procter & Gamble Company</td>\n                        <td id=\"T_90e3199e_5144_11ec_97c8_0242ac1c0002row3_col1\" class=\"data row3 col1\" >Consumer Defensive</td>\n                        <td id=\"T_90e3199e_5144_11ec_97c8_0242ac1c0002row3_col2\" class=\"data row3 col2\" >Household & Personal Products</td>\n                        <td id=\"T_90e3199e_5144_11ec_97c8_0242ac1c0002row3_col3\" class=\"data row3 col3\" >357.60B</td>\n                        <td id=\"T_90e3199e_5144_11ec_97c8_0242ac1c0002row3_col4\" class=\"data row3 col4\" >1.4</td>\n                        <td id=\"T_90e3199e_5144_11ec_97c8_0242ac1c0002row3_col5\" class=\"data row3 col5\" >3.0</td>\n                        <td id=\"T_90e3199e_5144_11ec_97c8_0242ac1c0002row3_col6\" class=\"data row3 col6\" >5.5</td>\n                        <td id=\"T_90e3199e_5144_11ec_97c8_0242ac1c0002row3_col7\" class=\"data row3 col7\" >5.1</td>\n                        <td id=\"T_90e3199e_5144_11ec_97c8_0242ac1c0002row3_col8\" class=\"data row3 col8\" >13.2</td>\n                        <td id=\"T_90e3199e_5144_11ec_97c8_0242ac1c0002row3_col9\" class=\"data row3 col9\" >4.5</td>\n                        <td id=\"T_90e3199e_5144_11ec_97c8_0242ac1c0002row3_col10\" class=\"data row3 col10\" >5.4</td>\n                        <td id=\"T_90e3199e_5144_11ec_97c8_0242ac1c0002row3_col11\" class=\"data row3 col11\" >4.3</td>\n                        <td id=\"T_90e3199e_5144_11ec_97c8_0242ac1c0002row3_col12\" class=\"data row3 col12\" >1.8</td>\n                        <td id=\"T_90e3199e_5144_11ec_97c8_0242ac1c0002row3_col13\" class=\"data row3 col13\" >2.2</td>\n                        <td id=\"T_90e3199e_5144_11ec_97c8_0242ac1c0002row3_col14\" class=\"data row3 col14\" >1.2</td>\n                        <td id=\"T_90e3199e_5144_11ec_97c8_0242ac1c0002row3_col15\" class=\"data row3 col15\" >0.1</td>\n                        <td id=\"T_90e3199e_5144_11ec_97c8_0242ac1c0002row3_col16\" class=\"data row3 col16\" >50.30%</td>\n                        <td id=\"T_90e3199e_5144_11ec_97c8_0242ac1c0002row3_col17\" class=\"data row3 col17\" >30.2</td>\n                        <td id=\"T_90e3199e_5144_11ec_97c8_0242ac1c0002row3_col18\" class=\"data row3 col18\" >3.9</td>\n                        <td id=\"T_90e3199e_5144_11ec_97c8_0242ac1c0002row3_col19\" class=\"data row3 col19\" >149.3</td>\n                        <td id=\"T_90e3199e_5144_11ec_97c8_0242ac1c0002row3_col20\" class=\"data row3 col20\" >152.9</td>\n                        <td id=\"T_90e3199e_5144_11ec_97c8_0242ac1c0002row3_col21\" class=\"data row3 col21\" >2.450000</td>\n                        <td id=\"T_90e3199e_5144_11ec_97c8_0242ac1c0002row3_col22\" class=\"data row3 col22\" >85.5</td>\n                        <td id=\"T_90e3199e_5144_11ec_97c8_0242ac1c0002row3_col23\" class=\"data row3 col23\" >-42.7</td>\n            </tr>\n            <tr>\n                        <th id=\"T_90e3199e_5144_11ec_97c8_0242ac1c0002level0_row4\" class=\"row_heading level0 row4\" >SPY</th>\n                        <td id=\"T_90e3199e_5144_11ec_97c8_0242ac1c0002row4_col0\" class=\"data row4 col0\" >nan</td>\n                        <td id=\"T_90e3199e_5144_11ec_97c8_0242ac1c0002row4_col1\" class=\"data row4 col1\" >nan</td>\n                        <td id=\"T_90e3199e_5144_11ec_97c8_0242ac1c0002row4_col2\" class=\"data row4 col2\" >nan</td>\n                        <td id=\"T_90e3199e_5144_11ec_97c8_0242ac1c0002row4_col3\" class=\"data row4 col3\" >nan</td>\n                        <td id=\"T_90e3199e_5144_11ec_97c8_0242ac1c0002row4_col4\" class=\"data row4 col4\" >-0.8</td>\n                        <td id=\"T_90e3199e_5144_11ec_97c8_0242ac1c0002row4_col5\" class=\"data row4 col5\" >-0.6</td>\n                        <td id=\"T_90e3199e_5144_11ec_97c8_0242ac1c0002row4_col6\" class=\"data row4 col6\" >4.2</td>\n                        <td id=\"T_90e3199e_5144_11ec_97c8_0242ac1c0002row4_col7\" class=\"data row4 col7\" >3.4</td>\n                        <td id=\"T_90e3199e_5144_11ec_97c8_0242ac1c0002row4_col8\" class=\"data row4 col8\" >11.6</td>\n                        <td id=\"T_90e3199e_5144_11ec_97c8_0242ac1c0002row4_col9\" class=\"data row4 col9\" >-1.6</td>\n                        <td id=\"T_90e3199e_5144_11ec_97c8_0242ac1c0002row4_col10\" class=\"data row4 col10\" >-0.7</td>\n                        <td id=\"T_90e3199e_5144_11ec_97c8_0242ac1c0002row4_col11\" class=\"data row4 col11\" >3.5</td>\n                        <td id=\"T_90e3199e_5144_11ec_97c8_0242ac1c0002row4_col12\" class=\"data row4 col12\" >1.2</td>\n                        <td id=\"T_90e3199e_5144_11ec_97c8_0242ac1c0002row4_col13\" class=\"data row4 col13\" >2.1</td>\n                        <td id=\"T_90e3199e_5144_11ec_97c8_0242ac1c0002row4_col14\" class=\"data row4 col14\" >nan</td>\n                        <td id=\"T_90e3199e_5144_11ec_97c8_0242ac1c0002row4_col15\" class=\"data row4 col15\" >nan</td>\n                        <td id=\"T_90e3199e_5144_11ec_97c8_0242ac1c0002row4_col16\" class=\"data row4 col16\" >nan</td>\n                        <td id=\"T_90e3199e_5144_11ec_97c8_0242ac1c0002row4_col17\" class=\"data row4 col17\" >nan</td>\n                        <td id=\"T_90e3199e_5144_11ec_97c8_0242ac1c0002row4_col18\" class=\"data row4 col18\" >nan</td>\n                        <td id=\"T_90e3199e_5144_11ec_97c8_0242ac1c0002row4_col19\" class=\"data row4 col19\" >nan</td>\n                        <td id=\"T_90e3199e_5144_11ec_97c8_0242ac1c0002row4_col20\" class=\"data row4 col20\" >nan</td>\n                        <td id=\"T_90e3199e_5144_11ec_97c8_0242ac1c0002row4_col21\" class=\"data row4 col21\" >nan</td>\n                        <td id=\"T_90e3199e_5144_11ec_97c8_0242ac1c0002row4_col22\" class=\"data row4 col22\" >nan</td>\n                        <td id=\"T_90e3199e_5144_11ec_97c8_0242ac1c0002row4_col23\" class=\"data row4 col23\" >nan</td>\n            </tr>\n    </tbody></table>",
                  "text/plain": "<pandas.io.formats.style.Styler at 0x7f5c73bb7e10>"
                },
                "metadata": {}
              }
            ],
            "_view_module": "@jupyter-widgets/output",
            "_model_module_version": "1.0.0",
            "_view_count": null,
            "_view_module_version": "1.0.0",
            "layout": "IPY_MODEL_7b68826d191646e182e60f54cbe5e079",
            "_model_module": "@jupyter-widgets/output"
          }
        },
        "7b68826d191646e182e60f54cbe5e079": {
          "model_module": "@jupyter-widgets/base",
          "model_name": "LayoutModel",
          "model_module_version": "1.2.0",
          "state": {
            "_view_name": "LayoutView",
            "grid_template_rows": null,
            "right": null,
            "justify_content": null,
            "_view_module": "@jupyter-widgets/base",
            "overflow": null,
            "_model_module_version": "1.2.0",
            "_view_count": null,
            "flex_flow": null,
            "width": null,
            "min_width": null,
            "border": null,
            "align_items": null,
            "bottom": null,
            "_model_module": "@jupyter-widgets/base",
            "top": null,
            "grid_column": null,
            "overflow_y": null,
            "overflow_x": null,
            "grid_auto_flow": null,
            "grid_area": null,
            "grid_template_columns": null,
            "flex": null,
            "_model_name": "LayoutModel",
            "justify_items": null,
            "grid_row": null,
            "max_height": null,
            "align_content": null,
            "visibility": null,
            "align_self": null,
            "height": null,
            "min_height": null,
            "padding": null,
            "grid_auto_rows": null,
            "grid_gap": null,
            "max_width": null,
            "order": null,
            "_view_module_version": "1.2.0",
            "grid_template_areas": null,
            "object_position": null,
            "object_fit": null,
            "grid_auto_columns": null,
            "margin": null,
            "display": null,
            "left": null
          }
        }
      }
    }
  },
  "cells": [
    {
      "cell_type": "markdown",
      "metadata": {
        "id": "view-in-github",
        "colab_type": "text"
      },
      "source": [
        "<a href=\"https://colab.research.google.com/github/pysepty/DCF/blob/master/monitoring_performance.ipynb\" target=\"_parent\"><img src=\"https://colab.research.google.com/assets/colab-badge.svg\" alt=\"Open In Colab\"/></a>"
      ]
    },
    {
      "cell_type": "code",
      "metadata": {
        "collapsed": true,
        "id": "oNcVvdNiY5BH"
      },
      "source": [
        "%%capture\n",
        "!pip install yfinance\n",
        "!pip install finvizfinance"
      ],
      "execution_count": 1,
      "outputs": []
    },
    {
      "cell_type": "code",
      "metadata": {
        "id": "2RDdiEh81OBp"
      },
      "source": [
        "import pandas as pd\n",
        "import yfinance as yf"
      ],
      "execution_count": 2,
      "outputs": []
    },
    {
      "cell_type": "code",
      "metadata": {
        "id": "8jn-KvqAgvmJ"
      },
      "source": [
        "benchmark = pd.DataFrame({'Symbol':['SPY','NDX']})"
      ],
      "execution_count": 3,
      "outputs": []
    },
    {
      "cell_type": "code",
      "metadata": {
        "id": "q34tJqT_ZzE9"
      },
      "source": [
        "# growing_conviction = pd.DataFrame({'Symbol':['INMD','MYRG','ORGO','DGX','NIU','IRBT','EXPI']})\n",
        "# market_leaders = pd.DataFrame({'Symbol':['CSCO','ADBE','NVDA','CRM','INTU','ACN','LLY','DHR',\n",
        "#                                          'COST','HD','MRNA']})\n",
        "# winners_win_list = pd.DataFrame({'Symbol':['ISRG','A','REGN','CROX','DGX','NUE','TX',\n",
        "#                                            'PRFT','GTLS','ALKS']})\n",
        "# find_100_bagger = pd.DataFrame({'Symbol':['LLY','NVO','PFPT',\n",
        "#                                           'ASAN','SE','OPEN','SPLK','PATH']})\n",
        "# undervalue_growth_watchlist = pd.DataFrame({'Symbol':['EBAY','AMKR','CROX','WSM','WGO',\n",
        "#                                                       'EBS','HOLX','REGN',\n",
        "#                                                       'LPX','NUE','TX',]})\n",
        "# intheradar_watchlist = pd.DataFrame({'Symbol':['ABNB','SNOW','PINS','JMIA','AMPG','SFT','ZEN','GRUB','PTON','WISH','PLTR','ETSY','DOCN','MGNI','GKOS',\n",
        "#                                                'UCTT','ON','TSM','IRBT','ATEN','CRM','TTD','APPS','TECH',\n",
        "#                                                'CODX','DMTK','TRNS','NVTA','IRWD','JNJ','CARA','SMG','SUPN']})\n",
        "# renewable_watchlist = pd.DataFrame({'Symbol':['GTLS','PLUG','ENPH','DQ','TSLA','NIO','LAZR','CHPT','BLNK']})\n",
        "# stock_list = pd.concat([benchmark, market_leaders, winners_win_list, growing_conviction, find_100_bagger, undervalue_growth_watchlist, \n",
        "#                         intheradar_watchlist]).drop_duplicates().reset_index(drop=True)\n",
        "#stock_list = pd.concat([benchmark, market_leaders, growing_conviction]).drop_duplicates().reset_index(drop=True)"
      ],
      "execution_count": null,
      "outputs": []
    },
    {
      "cell_type": "code",
      "metadata": {
        "id": "MrS3WhPbaUjw",
        "cellView": "form"
      },
      "source": [
        "#@title Define function fundamental\n",
        "from finvizfinance.quote import finvizfinance\n",
        "\n",
        "def desc(symbol):\n",
        "    stock = finvizfinance(symbol)\n",
        "    stock_fundament = stock.TickerFundament()\n",
        "    name = stock_fundament['Company']\n",
        "    sector = stock_fundament['Sector']\n",
        "    industry = stock_fundament['Industry']\n",
        "    mcap = stock_fundament['Market Cap']    \n",
        "    return name, sector, industry, mcap\n",
        "\n",
        "def dcf(symbol):\n",
        "    stock = finvizfinance(symbol)\n",
        "    stock_fundament = stock.TickerFundament()\n",
        "    current = float(stock_fundament['Price'])    \n",
        "    mcap = stock_fundament['Market Cap']\n",
        "    gross = stock_fundament['Gross Margin']\n",
        "    volat = float(stock_fundament['Volatility W'].strip('%'))\n",
        "    try:\n",
        "        ins = float(stock_fundament['Insider Own'].strip('%'))    \n",
        "    except:\n",
        "        ins = float('NaN')\n",
        "    \n",
        "    try:\n",
        "        ROE = float(stock_fundament['ROE'].strip('%'))\n",
        "    except:\n",
        "        ROE = float('NaN')\n",
        "        \n",
        "    try:\n",
        "        peg = float(stock_fundament['PEG'])\n",
        "    except:\n",
        "        peg = float('NaN')\n",
        "        \n",
        "    try:\n",
        "        wst = float(stock_fundament['Target Price'])\n",
        "        buffer = round(100*(wst-current)/current, 2)\n",
        "    except:\n",
        "        wst = float('NaN')\n",
        "        buffer = float('NaN')\n",
        "        \n",
        "    try:\n",
        "        eps_ttm = float(stock_fundament['EPS (ttm)'])                        \n",
        "        \n",
        "        if eps_ttm > 0:        \n",
        "            y5n  = float(stock_fundament['EPS next 5Y'].strip('%'))\n",
        "            y5p  = float(stock_fundament['EPS past 5Y'].strip('%'))            \n",
        "            ge  = (y5n+y5p)/4\n",
        "            yr = 5\n",
        "            dr = 10\n",
        "            tg = 2.5\n",
        " \n",
        "            eps = [eps_ttm]\n",
        "            disc =[1]\n",
        "            disc_eps = [eps_ttm]\n",
        "            for year in range(1, yr+1):\n",
        "                eps.append(eps[year - 1] * (1 + ge/100))\n",
        "                disc.append(1 / (1 + (dr / 100))**(year))\n",
        "                disc_eps.append(eps[year]*disc[year])  \n",
        " \n",
        "            terminal_value = ((eps[-1] * (1 + tg/100)) / (dr/100 - tg/100))\n",
        "            eps.append(terminal_value)\n",
        "            disc_eps.append(eps[year+1]*(1 / (1 + (dr / 100))**(year)))\n",
        " \n",
        "            PV = sum(disc_eps)\n",
        "            #print(\"-> Expected value based on EPS growth in 5Y: ${}\".format(round(PV)))\n",
        "            \n",
        "            fair    = round(PV,2)\n",
        "            margin  = 100*(fair-current)/current\n",
        "            return volat, ins, gross, ROE, peg, current, wst, buffer, fair, margin, mcap\n",
        "        else:\n",
        "            return volat, ins, gross, ROE, peg, current, wst, buffer, float('NaN'), float('NaN'), mcap\n",
        "    except:\n",
        "        return volat, ins, gross, ROE, peg, current, wst, buffer, float('NaN'), float('NaN'), mcap"
      ],
      "execution_count": 5,
      "outputs": []
    },
    {
      "cell_type": "code",
      "metadata": {
        "id": "fGaHvNUtaK1O",
        "cellView": "form"
      },
      "source": [
        "#@title Define function Return and Sharpe ratio\n",
        "#6mo = 126days ago\n",
        "#3mo = 63days ago\n",
        "#1mo = 22days ago\n",
        "def return_period(symbol,since_days_ago):\n",
        "    start = (len(df_latest_price) - since_days_ago) - 1\n",
        "    \n",
        "    if start>=0:\n",
        "        cum_return = df_latest_price[symbol]/df_latest_price.iloc[start][symbol]\n",
        "        stock_return = 100 * (cum_return[-1] -1)\n",
        "        return round(stock_return,1)\n",
        "    else:\n",
        "        return float('NaN')\n",
        "    \n",
        "def sharpe_ratio(symbol,since_days_ago):  \n",
        "    start = (len(df_latest_price) - since_days_ago) - 1\n",
        "    \n",
        "    if start>=0:\n",
        "        daily_return = df_latest_price.iloc[start:][symbol].pct_change(1)\n",
        "        SR  = daily_return.mean()/daily_return.std()\n",
        "        ASR = (252**0.5)*SR\n",
        "        return round(ASR,1)\n",
        "    else:\n",
        "        return float('NaN')"
      ],
      "execution_count": 6,
      "outputs": []
    },
    {
      "cell_type": "code",
      "metadata": {
        "colab": {
          "base_uri": "https://localhost:8080/",
          "height": 206
        },
        "id": "MTdtqvsSfT3m",
        "outputId": "8a052e92-9a80-4b0a-f158-20af2338ae61"
      },
      "source": [
        "# xlsfile = \"/content/drive/MyDrive/Colab Notebooks/active_list.xlsx\"\n",
        "# xlsfile = \"/content/drive/MyDrive/Colab Notebooks/EverlastingStocks.xlsx\"\n",
        "# xlsfile = \"/content/drive/MyDrive/Colab Notebooks/list.xlsx\"\n",
        "xlsfile = \"/content/drive/MyDrive/Colab Notebooks/data/portfolio1.xls\"\n",
        "data = pd.read_excel(xlsfile, skiprows=3)\n",
        "stock_list = pd.DataFrame(data[['Symbol']])\n",
        "stock_list = pd.concat([benchmark,stock_list]).drop_duplicates().reset_index(drop=True)\n",
        "\n",
        "#stock_list.head()\n",
        "data.head()"
      ],
      "execution_count": 12,
      "outputs": [
        {
          "output_type": "execute_result",
          "data": {
            "text/html": [
              "<div>\n",
              "<style scoped>\n",
              "    .dataframe tbody tr th:only-of-type {\n",
              "        vertical-align: middle;\n",
              "    }\n",
              "\n",
              "    .dataframe tbody tr th {\n",
              "        vertical-align: top;\n",
              "    }\n",
              "\n",
              "    .dataframe thead th {\n",
              "        text-align: right;\n",
              "    }\n",
              "</style>\n",
              "<table border=\"1\" class=\"dataframe\">\n",
              "  <thead>\n",
              "    <tr style=\"text-align: right;\">\n",
              "      <th></th>\n",
              "      <th>Symbol</th>\n",
              "      <th>Cost/share</th>\n",
              "      <th>Qty</th>\n",
              "    </tr>\n",
              "  </thead>\n",
              "  <tbody>\n",
              "    <tr>\n",
              "      <th>0</th>\n",
              "      <td>JCI</td>\n",
              "      <td>72.006</td>\n",
              "      <td>5</td>\n",
              "    </tr>\n",
              "    <tr>\n",
              "      <th>1</th>\n",
              "      <td>ETSY</td>\n",
              "      <td>184.240</td>\n",
              "      <td>1</td>\n",
              "    </tr>\n",
              "    <tr>\n",
              "      <th>2</th>\n",
              "      <td>AZEK</td>\n",
              "      <td>38.730</td>\n",
              "      <td>2</td>\n",
              "    </tr>\n",
              "    <tr>\n",
              "      <th>3</th>\n",
              "      <td>FUV</td>\n",
              "      <td>9.930</td>\n",
              "      <td>5</td>\n",
              "    </tr>\n",
              "    <tr>\n",
              "      <th>4</th>\n",
              "      <td>FTCI</td>\n",
              "      <td>8.550</td>\n",
              "      <td>6</td>\n",
              "    </tr>\n",
              "  </tbody>\n",
              "</table>\n",
              "</div>"
            ],
            "text/plain": [
              "  Symbol  Cost/share  Qty\n",
              "0    JCI      72.006    5\n",
              "1   ETSY     184.240    1\n",
              "2   AZEK      38.730    2\n",
              "3    FUV       9.930    5\n",
              "4   FTCI       8.550    6"
            ]
          },
          "metadata": {},
          "execution_count": 12
        }
      ]
    },
    {
      "cell_type": "code",
      "metadata": {
        "id": "bC2v7Hy5n7e8"
      },
      "source": [
        "# stock_list[stock_list['Symbol']=='ILIKF']"
      ],
      "execution_count": null,
      "outputs": []
    },
    {
      "cell_type": "code",
      "metadata": {
        "id": "sBkDQyg0HDgP"
      },
      "source": [
        "# some stocks are not available in finviz\n",
        "delete_stock = ['AUR','HNHPF','ILIKF','SMRT','XONE','KVSB']\n",
        "stock_list = stock_list.set_index('Symbol').drop(delete_stock).reset_index()"
      ],
      "execution_count": 13,
      "outputs": []
    },
    {
      "cell_type": "code",
      "metadata": {
        "id": "pYDdfurHEx5J",
        "colab": {
          "base_uri": "https://localhost:8080/",
          "height": 48,
          "referenced_widgets": [
            "e8bde657ab3c43349ebf60ca59f25d8d",
            "f53b125eee1e4322a35c1292b0a071fa",
            "97d006af85b140afb2b1992e5487089b",
            "972939a6b5de47508aa8f1e7cb5049d6",
            "146f5421ef48405589c58f17005474a0"
          ]
        },
        "cellView": "form",
        "outputId": "bd0452a2-12e9-4976-dee0-6a834b16a5d6"
      },
      "source": [
        "#@title get sector information\n",
        "#stock_desc = stock_list.copy()\n",
        "stock_list[['name', 'sector', 'industry', 'market cap']] = stock_list[2:].apply(lambda x: desc(x['Symbol']), axis = 1, result_type = 'expand')\n",
        "# (stock_desc[2:].set_index('Symbol').sort_values(by=['Symbol']).style)\n",
        "\n",
        "pd.set_option('display.max_rows', stock_list.shape[0]+1)\n",
        "import ipywidgets as widgets\n",
        "from IPython.display import display\n",
        "# stock_desc.sort_values(by=\"Symbol\")\n",
        "\n",
        "col = stock_list.columns.to_list()\n",
        "col.insert(0, 'ALL')\n",
        "dropdown_column = widgets.Dropdown(options = col)\n",
        "output = widgets.Output()\n",
        "def dropdown_column_eventhandler(change):\n",
        "    output.clear_output()\n",
        "    with output:\n",
        "        if (change.new == 'ALL'):\n",
        "          display(stock_list)\n",
        "        else:\n",
        "          display(stock_list.sort_values(by=change.new))          \n",
        "dropdown_column.observe(dropdown_column_eventhandler, names='value')\n",
        "display(dropdown_column)\n",
        "display(output)"
      ],
      "execution_count": 14,
      "outputs": [
        {
          "output_type": "display_data",
          "data": {
            "application/vnd.jupyter.widget-view+json": {
              "model_id": "e8bde657ab3c43349ebf60ca59f25d8d",
              "version_minor": 0,
              "version_major": 2
            },
            "text/plain": [
              "Dropdown(options=('ALL', 'Symbol', 'name', 'sector', 'industry', 'market cap'), value='ALL')"
            ]
          },
          "metadata": {}
        },
        {
          "output_type": "display_data",
          "data": {
            "application/vnd.jupyter.widget-view+json": {
              "model_id": "972939a6b5de47508aa8f1e7cb5049d6",
              "version_minor": 0,
              "version_major": 2
            },
            "text/plain": [
              "Output()"
            ]
          },
          "metadata": {}
        }
      ]
    },
    {
      "cell_type": "code",
      "metadata": {
        "id": "iqTzWoC7aAjz",
        "cellView": "form"
      },
      "source": [
        "#@title Get historical data from yahoo\n",
        "tickerStrings = list(stock_list['Symbol'])\n",
        "df_list = list()\n",
        "df_latest_price = pd.DataFrame()\n",
        "for ticker in tickerStrings:\n",
        "    data = yf.download(ticker, auto_adjust=True, progress = False, period='6mo')\n",
        "    #data['ticker'] = ticker  # add this column becasue the dataframe doesn't contain a column with the ticker\n",
        "    df_latest_price[ticker] = data['Close']\n",
        " \n",
        "#df_latest_price.tail()"
      ],
      "execution_count": 15,
      "outputs": []
    },
    {
      "cell_type": "code",
      "metadata": {
        "id": "RUcIeAyiaMRK",
        "cellView": "form"
      },
      "source": [
        "#@title Run calculation Return and Sharpe Ratio\n",
        "stock_list['7D performance %'] = stock_list.apply(lambda x: return_period(x['Symbol'], 6), axis=1)\n",
        "stock_list['15D performance %'] = stock_list.apply(lambda x: return_period(x['Symbol'], 14), axis=1)\n",
        "stock_list['30D performance %'] = stock_list.apply(lambda x: return_period(x['Symbol'], 29), axis=1)\n",
        "stock_list['3MO performance %'] = stock_list.apply(lambda x: return_period(x['Symbol'], 63), axis=1)\n",
        "stock_list['6MO performance %'] = stock_list.apply(lambda x: return_period(x['Symbol'], 125), axis=1)\n",
        " \n",
        "stock_list['7D SR'] = stock_list.apply(lambda x: sharpe_ratio(x['Symbol'], 6), axis=1)\n",
        "stock_list['15D SR'] = stock_list.apply(lambda x: sharpe_ratio(x['Symbol'], 14), axis=1)\n",
        "stock_list['30D SR'] = stock_list.apply(lambda x: sharpe_ratio(x['Symbol'], 29), axis=1)\n",
        "stock_list['3MO SR'] = stock_list.apply(lambda x: sharpe_ratio(x['Symbol'], 63), axis=1)\n",
        "stock_list['6MO SR'] = stock_list.apply(lambda x: sharpe_ratio(x['Symbol'], 125), axis=1)"
      ],
      "execution_count": 16,
      "outputs": []
    },
    {
      "cell_type": "code",
      "metadata": {
        "id": "_aFB5oITar03",
        "cellView": "form"
      },
      "source": [
        "#@title Run fundamental\n",
        "stock_list[['Volatility W %', 'Insider Own %', 'gross', 'ROE %', 'PEG', 'Latest Price $', 'WST latest target $', 'Buffer %', 'Fair $', 'Margin of Safety %', 'market cap']] = stock_list[2:].apply(lambda x: dcf(x['Symbol']), axis = 1, result_type = 'expand')"
      ],
      "execution_count": 17,
      "outputs": []
    },
    {
      "cell_type": "code",
      "metadata": {
        "id": "U3KIvEOIawoZ",
        "cellView": "form"
      },
      "source": [
        "#@title Define style for the table\n",
        " \n",
        "def green_background_performance(series):\n",
        "    highlight = 'background-color: palegreen;'\n",
        "    default = ''\n",
        "    return [highlight if e > series.loc['SPY']+5 else default for e in series]   \n",
        " \n",
        "def green_background_sharpe(series):\n",
        "    highlight = 'background-color: palegreen;'\n",
        "    default = ''\n",
        "    return [highlight if e > series.loc['SPY']+1 else default for e in series]  \n",
        " \n",
        "def red_background(series):\n",
        "    highlight = 'background-color: tomato;'\n",
        "    default = ''\n",
        "    return [highlight if e < series.loc['SPY'] else default for e in series] \n",
        " \n",
        "def bold_max_value_in_series(series):\n",
        "    highlight = 'font-weight: bold;'\n",
        "    default = ''\n",
        "    return [highlight if e == series.max() else default for e in series]  \n",
        " \n",
        "def undervalue(cell_value):\n",
        "    highlight = 'background-color: palegreen;'\n",
        "    default = ''\n",
        "    if cell_value > 30:\n",
        "        return highlight\n",
        "    else:\n",
        "        return default  \n",
        " \n",
        "def insider(cell_value):\n",
        "    highlight = 'background-color: palegreen;'\n",
        "    default = ''\n",
        "    if cell_value >= 5:\n",
        "        return highlight\n",
        "    else:\n",
        "        return default  \n",
        " \n",
        "def ROE_highlight(cell_value):\n",
        "    highlight_green = 'background-color: palegreen;'\n",
        "    highlight_red = 'background-color: tomato;'\n",
        "    default = ''\n",
        "    if cell_value > 25:\n",
        "        return highlight_green\n",
        "    elif cell_value < 15:\n",
        "        return highlight_red\n",
        "    else:\n",
        "        return default  \n",
        "    \n",
        "def peg_highlight(cell_value):\n",
        "    highlight_green = 'background-color: palegreen;'\n",
        "    highlight_red = 'background-color: tomato;'\n",
        "    default = ''\n",
        "    if cell_value < 2:\n",
        "        return highlight_green\n",
        "    elif cell_value > 4:\n",
        "        return highlight_red\n",
        "    else:\n",
        "        return default  \n",
        "    \n",
        "def volatility(cell_value):\n",
        "    highlight_green = 'background-color: palegreen;'\n",
        "    highlight_red = 'background-color: tomato;'\n",
        "    default = ''\n",
        "    if cell_value < 2:\n",
        "        return highlight_green\n",
        "    elif cell_value > 4:\n",
        "        return highlight_red\n",
        "    else:\n",
        "        return default  \n",
        " \n",
        "def red_background_negative_values(cell_value):\n",
        "    highlight = 'background-color: tomato;'\n",
        "    default = ''\n",
        "    if cell_value < 5:\n",
        "        return highlight\n",
        "    else:\n",
        "        return default     \n",
        "\n",
        "def table_style(df):\n",
        "  performanceCL = ['7D performance %', '15D performance %', '30D performance %', '3MO performance %', '6MO performance %']\n",
        "  sharpeCL = ['7D SR','15D SR','30D SR','3MO SR','6MO SR']\n",
        "  numCL = performanceCL + sharpeCL + ['Volatility W %', 'Insider Own %', 'ROE %', 'PEG', \n",
        "                                      'Latest Price $', 'WST latest target $', 'Fair $', 'Margin of Safety %']\n",
        "  return (df.set_index('Symbol').style.format('{:.1f}',subset=numCL)\n",
        "  .apply(green_background_performance, axis=0, subset=performanceCL)\n",
        "  .apply(green_background_sharpe, axis=0, subset=sharpeCL)\n",
        "  .apply(red_background, axis=0, subset=performanceCL+sharpeCL)\n",
        "  .apply(bold_max_value_in_series, axis=0, subset=performanceCL)\n",
        "  .applymap(insider, subset=['Insider Own %'])\n",
        "  .applymap(ROE_highlight, subset=['ROE %'])\n",
        "  .applymap(undervalue, subset=['Margin of Safety %', 'Buffer %'])\n",
        "  .applymap(red_background_negative_values, subset=['Margin of Safety %', 'Buffer %'])\n",
        "  .applymap(volatility, subset=['Volatility W %'])\n",
        "  .applymap(peg_highlight, subset=['PEG']))\n",
        "\n"
      ],
      "execution_count": 18,
      "outputs": []
    },
    {
      "cell_type": "code",
      "metadata": {
        "colab": {
          "base_uri": "https://localhost:8080/",
          "height": 328,
          "referenced_widgets": [
            "e6fd8366b3224cdf9375e26659f384c8",
            "1e745987dc2547e8bdc15c48b91ea6c4",
            "91b2cec7743e4dc2a512bef1a95a7e4d",
            "ca58974cefca48fb942022fb2f3e0e71",
            "bdfea3052de346e192c8b50961207c3b",
            "f4908c9d192f4c9d8183b937f59a78bc",
            "e395c91c37d240768edc9cb8dfec1c0e",
            "d75009bb23354393a2de4882a9f02f45",
            "ebe4ae2ff00a445aab709954f08edc93",
            "2ad7ee295f454aeebcb7eec1bddacb55",
            "7b68826d191646e182e60f54cbe5e079"
          ]
        },
        "id": "nG9S-evVthg6",
        "cellView": "form",
        "outputId": "9d69a26a-7f88-4107-e1e6-6e86921e6ab8"
      },
      "source": [
        "#@title display current performance\n",
        "\n",
        "import ipywidgets as widgets\n",
        "from IPython.display import display\n",
        "\n",
        "sector_list = stock_list.sector.unique().tolist()\n",
        "sector_list.pop(0)\n",
        "sector_list.insert(0, 'ALL')\n",
        "dropdown_sector = widgets.Dropdown(options = sector_list)\n",
        "dropdown_analysis = widgets.Dropdown(options = stock_list.columns.to_list(), value=\"7D performance %\")\n",
        "dropdown_analysis_type = widgets.Dropdown(options = [\"descending\",\"ascending\"])\n",
        "output_analysis = widgets.Output()\n",
        "\n",
        "def filter_sector_sorted(sector_selected,kolom,jenis_sorting):\n",
        "  output_analysis.clear_output()\n",
        "  with output_analysis:\n",
        "    if (sector_selected == 'ALL'):\n",
        "      display_list = stock_list.copy()\n",
        "    else:\n",
        "      display_list = stock_list.copy()\n",
        "      display_list = display_list[display_list.sector==sector_selected]\n",
        "      display_list = display_list.append(stock_list[stock_list.Symbol==\"SPY\"])\n",
        "    if (jenis_sorting == \"descending\"):\n",
        "      display(table_style(display_list.sort_values(by=kolom, ascending=False)))\n",
        "    else:\n",
        "      display(table_style(display_list.sort_values(by=kolom, ascending=True)))\n",
        "\n",
        "def dropdown_sector_eventhandler(change):\n",
        "  filter_sector_sorted(change.new, dropdown_analysis.value, dropdown_analysis_type.value)\n",
        "def dropdown_analysis_eventhandler(change):\n",
        "  filter_sector_sorted(dropdown_sector.value, change.new, dropdown_analysis_type.value)\n",
        "def dropdown_analysis_type_eventhandler(change):\n",
        "  filter_sector_sorted(dropdown_sector.value, dropdown_analysis.value, change.new)\n",
        "\n",
        "dropdown_sector.observe(dropdown_sector_eventhandler, names='value')    \n",
        "dropdown_analysis.observe(dropdown_analysis_eventhandler, names='value')\n",
        "dropdown_analysis_type.observe(dropdown_analysis_type_eventhandler, names='value')\n",
        "\n",
        "display(dropdown_sector)\n",
        "display(dropdown_analysis)\n",
        "display(dropdown_analysis_type)\n",
        "display(output_analysis)"
      ],
      "execution_count": 19,
      "outputs": [
        {
          "output_type": "display_data",
          "data": {
            "application/vnd.jupyter.widget-view+json": {
              "model_id": "e6fd8366b3224cdf9375e26659f384c8",
              "version_minor": 0,
              "version_major": 2
            },
            "text/plain": [
              "Dropdown(options=('ALL', 'Industrials', 'Consumer Cyclical', 'Technology', 'Healthcare', 'Communication Servic…"
            ]
          },
          "metadata": {}
        },
        {
          "output_type": "display_data",
          "data": {
            "application/vnd.jupyter.widget-view+json": {
              "model_id": "ca58974cefca48fb942022fb2f3e0e71",
              "version_minor": 0,
              "version_major": 2
            },
            "text/plain": [
              "Dropdown(index=5, options=('Symbol', 'name', 'sector', 'industry', 'market cap', '7D performance %', '15D perf…"
            ]
          },
          "metadata": {}
        },
        {
          "output_type": "display_data",
          "data": {
            "application/vnd.jupyter.widget-view+json": {
              "model_id": "e395c91c37d240768edc9cb8dfec1c0e",
              "version_minor": 0,
              "version_major": 2
            },
            "text/plain": [
              "Dropdown(options=('descending', 'ascending'), value='descending')"
            ]
          },
          "metadata": {}
        },
        {
          "output_type": "display_data",
          "data": {
            "application/vnd.jupyter.widget-view+json": {
              "model_id": "2ad7ee295f454aeebcb7eec1bddacb55",
              "version_minor": 0,
              "version_major": 2
            },
            "text/plain": [
              "Output()"
            ]
          },
          "metadata": {}
        }
      ]
    },
    {
      "cell_type": "markdown",
      "metadata": {
        "id": "3NU9Y_s7Bi1O"
      },
      "source": [
        "# biotech\n",
        "##### ORGO : high ROE, 95% owned by insiders, big potential based on WST, and fair value estimation\n",
        "##### REGN : high ROE, stable price movement\n",
        "\n",
        "# Health care equipment\n",
        "##### INMD : high ROE, low PEG\n",
        "\n",
        "# Life Sciences Tools and Services\n",
        "##### A : stable price movement\n",
        "\n",
        "# Cloud computing stocks\n",
        "#### \n",
        "\n",
        "# Crypto\n",
        "#### BTBT\n"
      ]
    },
    {
      "cell_type": "code",
      "metadata": {
        "colab": {
          "background_save": true
        },
        "id": "5eZ_f5OVG9IZ"
      },
      "source": [
        ""
      ],
      "execution_count": null,
      "outputs": []
    }
  ]
}